{
 "cells": [
  {
   "cell_type": "code",
   "execution_count": null,
   "metadata": {
    "collapsed": false
   },
   "outputs": [],
   "source": [
    "import numpy as np\n",
    "import cv2\n",
    "\n",
    "\n",
    "cap = cv2.VideoCapture('dance.mp4')\n",
    "fgbg = cv2.createBackgroundSubtractorMOG2()\n",
    "kernel = np.ones((11,11),np.uint8)\n",
    "\n",
    "while(cap.isOpened()):\n",
    "    ret, frame = cap.read()\n",
    "    road=frame[200:880,300:1680]\n",
    "\n",
    "\n",
    "    fgmask = fgbg.apply(road)     #backgroun\n",
    "    fgmask = cv2.GaussianBlur(fgmask,(5,5),0) #GaussianBlue\n",
    "    ret,fgmask = cv2.threshold(fgmask,150,255,cv2.THRESH_BINARY)   #Threshold\n",
    "    fgmask = cv2.morphologyEx(fgmask, cv2.MORPH_OPEN, kernel)  #Morphological transformations-open\n",
    "    fgmask = cv2.morphologyEx(fgmask, cv2.MORPH_CLOSE, kernel) #Morphological transformations-close\n",
    "\n",
    "\n",
    "    car = cv2.bitwise_and(road,road,mask = fgmask)  #get car real images\n",
    "\n",
    "    fgmask_inv = cv2.bitwise_not(fgmask)  #inverse car mask\n",
    "    white=road.copy() \n",
    "    white[:,:]=255  #make white road background\n",
    "    road_withoutCar = cv2.bitwise_and(white,white,mask = fgmask_inv)  #road -car_mask\n",
    "    whiteroad_car = cv2.add(road_withoutCar,car)  #road + car\n",
    "\n",
    "    image, contours, hierarchy = cv2.findContours(fgmask.copy(),cv2.RETR_TREE,cv2.CHAIN_APPROX_SIMPLE) #contour\n",
    "\n",
    "    #print  len(contours)\n",
    "    car_contour1=road.copy()\n",
    "    car_contour1 = cv2.drawContours(car_contour1, contours, -1, (0,255,0), 3)  #draw car contour \n",
    "\n",
    "    car_contour2=road.copy()\n",
    "    car_contour3=road.copy()\n",
    "    car_contour4=road.copy()\n",
    "    for i in range(len(contours)):\n",
    "        cnt = contours[i]\n",
    "        M = cv2.moments(cnt)\n",
    "        area = cv2.contourArea(cnt)\n",
    "      \n",
    "        epsilon = 0.1*cv2.arcLength(cnt,True)\n",
    "        approx = cv2.approxPolyDP(cnt,epsilon,True)\n",
    "        car_contour2 = cv2.drawContours(car_contour2, [approx], -1, (0,255,0), 3)  #draw car contour     \n",
    "\n",
    "        hull = cv2.convexHull(cnt)\n",
    "        car_contour3 = cv2.drawContours(car_contour3, [hull], -1, (0,255,0), 3)  #draw car contour     \n",
    "\n",
    "        x,y,w,h = cv2.boundingRect(cnt)\n",
    "    \n",
    "          # 限制大小\n",
    "#         if (w-x) >= 20 | (h-y) >=10: #limit size\n",
    "#             car_contour4 = cv2.rectangle(car_contour4,(x,y),(x+w,y+h),(0,255,0),2)\n",
    "          # 非限制大小\n",
    "        car_contour4 = cv2.rectangle(car_contour4,(x,y),(x+w,y+h),(0,255,0),2)\n",
    "\n",
    "\n",
    "\n",
    "    #cv2.imshow('road',road)\n",
    "    cv2.imshow('fgmask',fgmask)\n",
    "    cv2.imshow('car',car)\n",
    "    #cv2.imshow('road_white',whiteroad_car)\n",
    "    #cv2.imshow('car_contour1',car_contour1) #多邊形\n",
    "    #cv2.imshow('car_contour2',car_contour2) #三角形\n",
    "    #cv2.imshow('car_contour3',car_contour3) #六邊形\n",
    "    cv2.imshow('car_contour4',car_contour4) #長方形\n",
    "    #cv2.imshow('carBoundary',carBoundary)\n",
    "\n",
    "\n",
    "    k = cv2.waitKey(20) & 0xff\n",
    "    if k == 27:\n",
    "        break\n",
    "cap.release()\n",
    "cv2.destroyAllWindows()"
   ]
  },
  {
   "cell_type": "code",
   "execution_count": null,
   "metadata": {
    "collapsed": true
   },
   "outputs": [],
   "source": []
  },
  {
   "cell_type": "code",
   "execution_count": 16,
   "metadata": {
    "collapsed": true
   },
   "outputs": [
    {
     "ename": "SyntaxError",
     "evalue": "invalid character in identifier (<ipython-input-16-1f2bf0e0fa9e>, line 10)",
     "output_type": "error",
     "traceback": [
      "\u001b[0;36m  File \u001b[0;32m\"<ipython-input-16-1f2bf0e0fa9e>\"\u001b[0;36m, line \u001b[0;32m10\u001b[0m\n\u001b[0;31m    tracker = cv2.Tracker_create（'TLD'）\u001b[0m\n\u001b[0m                                ^\u001b[0m\n\u001b[0;31mSyntaxError\u001b[0m\u001b[0;31m:\u001b[0m invalid character in identifier\n"
     ]
    }
   ],
   "source": [
    "import cv2\n",
    "import sys\n",
    " \n",
    "if __name__ == '__main__' :\n",
    " \n",
    "    # Set up tracker.\n",
    "    # Instead of MIL, you can also use\n",
    "    # BOOSTING, KCF, TLD, MEDIANFLOW or GOTURN\n",
    "     \n",
    "    tracker = cv2.Tracker_create(\"MIL\")\n",
    " \n",
    "    # Read video\n",
    "    video = cv2.VideoCapture(\"videos/chaplin.mp4\")\n",
    " \n",
    "    # Exit if video not opened.\n",
    "    if not video.isOpened():\n",
    "        print (\"Could not open video\")\n",
    "        sys.exit()\n",
    " \n",
    "    # Read first frame.\n",
    "    ok, frame = video.read()\n",
    "    if not ok:\n",
    "        print ('Cannot read video file')\n",
    "        sys.exit()\n",
    "     \n",
    "    # Define an initial bounding box\n",
    "    bbox = (287, 23, 86, 320)\n",
    " \n",
    "    # Uncomment the line below to select a different bounding box\n",
    "    # bbox = cv2.selectROI(frame, False)\n",
    " \n",
    "    # Initialize tracker with first frame and bounding box\n",
    "    ok = tracker.init(frame, bbox)\n",
    " \n",
    "    while True:\n",
    "        # Read a new frame\n",
    "        ok, frame = video.read()\n",
    "        if not ok:\n",
    "            break\n",
    "         \n",
    "        # Update tracker\n",
    "        ok, bbox = tracker.update(frame)\n",
    " \n",
    "        # Draw bounding box\n",
    "        if ok:\n",
    "            p1 = (int(bbox[0]), int(bbox[1]))\n",
    "            p2 = (int(bbox[0] + bbox[2]), int(bbox[1] + bbox[3]))\n",
    "            cv2.rectangle(frame, p1, p2, (0,0,255))\n",
    " \n",
    "        # Display result\n",
    "        cv2.imshow(\"Tracking\", frame)\n",
    " \n",
    "        # Exit if ESC pressed\n",
    "        k = cv2.waitKey(1) & 0xff\n",
    "        if k == 27 : break"
   ]
  },
  {
   "cell_type": "code",
   "execution_count": 23,
   "metadata": {
    "collapsed": true
   },
   "outputs": [
    {
     "ename": "SyntaxError",
     "evalue": "invalid syntax (<ipython-input-23-27c0d08b3b61>, line 1)",
     "output_type": "error",
     "traceback": [
      "\u001b[0;36m  File \u001b[0;32m\"<ipython-input-23-27c0d08b3b61>\"\u001b[0;36m, line \u001b[0;32m1\u001b[0m\n\u001b[0;31m    -D OPENCV_EXTRA_MODULES_PATH= ~/OpenCV/opencv_contrib/modules ~/OpenCV/main\u001b[0m\n\u001b[0m                               ^\u001b[0m\n\u001b[0;31mSyntaxError\u001b[0m\u001b[0;31m:\u001b[0m invalid syntax\n"
     ]
    }
   ],
   "source": []
  },
  {
   "cell_type": "code",
   "execution_count": 15,
   "metadata": {
    "collapsed": false
   },
   "outputs": [],
   "source": [
    "if 'tracker' in dir(cv2):\n",
    "    print('yes')"
   ]
  },
  {
   "cell_type": "code",
   "execution_count": 20,
   "metadata": {
    "collapsed": true
   },
   "outputs": [
    {
     "ename": "AttributeError",
     "evalue": "module 'cv2' has no attribute 'Tracker_create'",
     "output_type": "error",
     "traceback": [
      "\u001b[0;31m---------------------------------------------------------------------------\u001b[0m",
      "\u001b[0;31mAttributeError\u001b[0m                            Traceback (most recent call last)",
      "\u001b[0;32m<ipython-input-20-8a4e8111254d>\u001b[0m in \u001b[0;36m<module>\u001b[0;34m()\u001b[0m\n\u001b[1;32m      5\u001b[0m \u001b[0mcamera\u001b[0m \u001b[1;33m=\u001b[0m \u001b[0mcv2\u001b[0m\u001b[1;33m.\u001b[0m\u001b[0mVideoCapture\u001b[0m\u001b[1;33m(\u001b[0m\u001b[1;34m\"E:/code/opencv/samples/data/768x576.avi\"\u001b[0m\u001b[1;33m)\u001b[0m\u001b[1;33m\u001b[0m\u001b[0m\n\u001b[1;32m      6\u001b[0m \u001b[0mbbox\u001b[0m \u001b[1;33m=\u001b[0m \u001b[1;33m(\u001b[0m\u001b[1;36m638.0\u001b[0m\u001b[1;33m,\u001b[0m\u001b[1;36m230.0\u001b[0m\u001b[1;33m,\u001b[0m\u001b[1;36m56.0\u001b[0m\u001b[1;33m,\u001b[0m\u001b[1;36m101.0\u001b[0m\u001b[1;33m)\u001b[0m\u001b[1;33m\u001b[0m\u001b[0m\n\u001b[0;32m----> 7\u001b[0;31m \u001b[0mtracker\u001b[0m \u001b[1;33m=\u001b[0m \u001b[0mcv2\u001b[0m\u001b[1;33m.\u001b[0m\u001b[0mTracker_create\u001b[0m\u001b[1;33m(\u001b[0m\u001b[1;34m\"MIL\"\u001b[0m\u001b[1;33m)\u001b[0m\u001b[1;33m\u001b[0m\u001b[0m\n\u001b[0m\u001b[1;32m      8\u001b[0m \u001b[0minit_once\u001b[0m \u001b[1;33m=\u001b[0m \u001b[1;32mFalse\u001b[0m\u001b[1;33m\u001b[0m\u001b[0m\n\u001b[1;32m      9\u001b[0m \u001b[1;33m\u001b[0m\u001b[0m\n",
      "\u001b[0;31mAttributeError\u001b[0m: module 'cv2' has no attribute 'Tracker_create'"
     ]
    }
   ],
   "source": [
    "import numpy as np\n",
    "import cv2\n",
    "\n",
    "cv2.namedWindow(\"tracking\")\n",
    "camera = cv2.VideoCapture(\"E:/code/opencv/samples/data/768x576.avi\")\n",
    "bbox = (638.0,230.0,56.0,101.0)\n",
    "tracker = cv2.Tracker_create(\"MIL\")\n",
    "init_once = False\n",
    "\n",
    "while camera.isOpened():\n",
    "    ok, image=camera.read()\n",
    "    if not ok:\n",
    "        print ('no image read')\n",
    "        break\n",
    "\n",
    "    if not init_once:\n",
    "        ok = tracker.init(image, bbox)\n",
    "        init_once = True\n",
    "\n",
    "    ok, newbox = tracker.update(image)\n",
    "    print (ok, newbox)\n",
    "\n",
    "    if ok:\n",
    "        p1 = (int(newbox[0]), int(newbox[1]))\n",
    "        p2 = (int(newbox[0] + newbox[2]), int(newbox[1] + newbox[3]))\n",
    "        cv2.rectangle(image, p1, p2, (200,0,0))\n",
    "\n",
    "    cv2.imshow(\"tracking\", image)\n",
    "    k = cv2.waitKey(1) & 0xff\n",
    "    if k == 27 : break # esc pressed"
   ]
  },
  {
   "cell_type": "code",
   "execution_count": 2,
   "metadata": {
    "collapsed": true
   },
   "outputs": [],
   "source": [
    "cv2.destroyAllWindows()"
   ]
  },
  {
   "cell_type": "code",
   "execution_count": 10,
   "metadata": {
    "collapsed": false
   },
   "outputs": [
    {
     "name": "stdout",
     "output_type": "stream",
     "text": [
      "yes\n"
     ]
    }
   ],
   "source": [
    "a = 44\n",
    "b = 32\n",
    "if (a) >= 40 | b >=30:\n",
    "    print('yes')"
   ]
  },
  {
   "cell_type": "code",
   "execution_count": 1,
   "metadata": {
    "collapsed": false
   },
   "outputs": [
    {
     "ename": "KeyboardInterrupt",
     "evalue": "",
     "output_type": "error",
     "traceback": [
      "\u001b[0;31m---------------------------------------------------------------------------\u001b[0m",
      "\u001b[0;31mKeyboardInterrupt\u001b[0m                         Traceback (most recent call last)",
      "\u001b[0;32m<ipython-input-1-930c636109c2>\u001b[0m in \u001b[0;36m<module>\u001b[0;34m()\u001b[0m\n\u001b[1;32m     10\u001b[0m         \u001b[1;32mbreak\u001b[0m\u001b[1;33m\u001b[0m\u001b[0m\n\u001b[1;32m     11\u001b[0m     \u001b[0mgray\u001b[0m\u001b[1;33m=\u001b[0m\u001b[0mcv2\u001b[0m\u001b[1;33m.\u001b[0m\u001b[0mcvtColor\u001b[0m\u001b[1;33m(\u001b[0m\u001b[0mframe\u001b[0m\u001b[1;33m,\u001b[0m\u001b[0mcv2\u001b[0m\u001b[1;33m.\u001b[0m\u001b[0mCOLOR_BGR2GRAY\u001b[0m\u001b[1;33m)\u001b[0m\u001b[1;33m\u001b[0m\u001b[0m\n\u001b[0;32m---> 12\u001b[0;31m     \u001b[0mgray\u001b[0m\u001b[1;33m=\u001b[0m\u001b[0mcv2\u001b[0m\u001b[1;33m.\u001b[0m\u001b[0mGaussianBlur\u001b[0m\u001b[1;33m(\u001b[0m\u001b[0mgray\u001b[0m\u001b[1;33m,\u001b[0m\u001b[1;33m(\u001b[0m\u001b[1;36m21\u001b[0m\u001b[1;33m,\u001b[0m\u001b[1;36m21\u001b[0m\u001b[1;33m)\u001b[0m\u001b[1;33m,\u001b[0m\u001b[1;36m0\u001b[0m\u001b[1;33m)\u001b[0m\u001b[1;33m\u001b[0m\u001b[0m\n\u001b[0m\u001b[1;32m     13\u001b[0m     \u001b[1;32mif\u001b[0m \u001b[0mfirstframe\u001b[0m \u001b[1;32mis\u001b[0m \u001b[1;32mNone\u001b[0m\u001b[1;33m:\u001b[0m\u001b[1;33m\u001b[0m\u001b[0m\n\u001b[1;32m     14\u001b[0m         \u001b[0mfirstframe\u001b[0m\u001b[1;33m=\u001b[0m\u001b[0mgray\u001b[0m\u001b[1;33m\u001b[0m\u001b[0m\n",
      "\u001b[0;31mKeyboardInterrupt\u001b[0m: "
     ]
    }
   ],
   "source": [
    "#動態追蹤程式二\n",
    "\n",
    "import cv2  \n",
    "import numpy as np  \n",
    "camera=cv2.VideoCapture('car.mp4')  \n",
    "firstframe=None  \n",
    "while True:  \n",
    "    ret,frame = camera.read()  \n",
    "    if not ret:  \n",
    "        break  \n",
    "    gray=cv2.cvtColor(frame,cv2.COLOR_BGR2GRAY)  \n",
    "    gray=cv2.GaussianBlur(gray,(21,21),0)  \n",
    "    if firstframe is None:  \n",
    "        firstframe=gray  \n",
    "        continue  \n",
    "      \n",
    "    frameDelta = cv2.absdiff(firstframe,gray)  \n",
    "    thresh = cv2.threshold(frameDelta, 25, 255, cv2.THRESH_BINARY)[1]  \n",
    "    thresh = cv2.dilate(thresh, None, iterations=2)  \n",
    "    # cnts= cv2.findContours(thresh.copy(),cv2.RETR_EXTERNAL,cv2.CHAIN_APPROX_SIMPLE)  \n",
    "      \n",
    "    x,y,w,h=cv2.boundingRect(thresh)  \n",
    "    frame=cv2.rectangle(frame,(x,y),(x+w,y+h),(0,0,255),2)  \n",
    "    cv2.imshow(\"frame\", frame)  \n",
    "    cv2.imshow(\"Thresh\", thresh)  \n",
    "    cv2.imshow(\"frame2\", frameDelta)  \n",
    "    key = cv2.waitKey(1)&0xFF  \n",
    "      \n",
    "    if key == ord(\"q\"):  \n",
    "        break  \n",
    "  \n",
    "camera.release()  \n",
    "cv2.destroyAllWindows()  "
   ]
  },
  {
   "cell_type": "code",
   "execution_count": null,
   "metadata": {
    "collapsed": true
   },
   "outputs": [],
   "source": []
  }
 ],
 "metadata": {
  "anaconda-cloud": {},
  "kernelspec": {
   "display_name": "Python [default]",
   "language": "python",
   "name": "python3"
  },
  "language_info": {
   "codemirror_mode": {
    "name": "ipython",
    "version": 3
   },
   "file_extension": ".py",
   "mimetype": "text/x-python",
   "name": "python",
   "nbconvert_exporter": "python",
   "pygments_lexer": "ipython3",
   "version": "3.5.2"
  }
 },
 "nbformat": 4,
 "nbformat_minor": 2
}
